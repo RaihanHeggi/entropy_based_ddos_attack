{
  "nbformat": 4,
  "nbformat_minor": 0,
  "metadata": {
    "colab": {
      "name": "classification_testing_accuracy.ipynb",
      "provenance": [],
      "authorship_tag": "ABX9TyNJXlctA8anh3O+SY3y0DZj",
      "include_colab_link": true
    },
    "kernelspec": {
      "name": "python3",
      "display_name": "Python 3"
    },
    "language_info": {
      "name": "python"
    }
  },
  "cells": [
    {
      "cell_type": "markdown",
      "metadata": {
        "id": "view-in-github",
        "colab_type": "text"
      },
      "source": [
        "<a href=\"https://colab.research.google.com/github/RaihanHeggi/markov_chain_ddos_attack/blob/main/classification_testing_accuracy.ipynb\" target=\"_parent\"><img src=\"https://colab.research.google.com/assets/colab-badge.svg\" alt=\"Open In Colab\"/></a>"
      ]
    },
    {
      "cell_type": "code",
      "metadata": {
        "id": "9tYCrhIOyNne"
      },
      "source": [
        "import pandas as pd \n",
        "import matplotlib.pyplot as plt \n",
        "import seaborn as sn \n",
        "import numpy as np \n",
        "import tensorflow as tf\n",
        "from tensorflow.keras import datasets, layers, models \n",
        "from sklearn.model_selection import cross_val_score\n",
        "from sklearn.metrics import confusion_matrix\n",
        "from sklearn.metrics import accuracy_score\n",
        "from sklearn.metrics import classification_report\n",
        "from sklearn.metrics import confusion_matrix\n",
        "from sklearn.model_selection import train_test_split"
      ],
      "execution_count": 1,
      "outputs": []
    },
    {
      "cell_type": "markdown",
      "metadata": {
        "id": "pMQszYISzqm1"
      },
      "source": [
        "## **Loading and Processing Data**"
      ]
    },
    {
      "cell_type": "code",
      "metadata": {
        "colab": {
          "base_uri": "https://localhost:8080/",
          "height": 100
        },
        "id": "jEU8xd1bza6C",
        "outputId": "d0d8d947-2a94-445b-ad92-7bf245d8075d"
      },
      "source": [
        "df = pd.read_csv('https://raw.githubusercontent.com/RaihanHeggi/markov_chain_ddos_attack/main/semi_processed_train.csv', sep=',')\n",
        "df_2 = pd.read_csv('https://raw.githubusercontent.com/RaihanHeggi/markov_chain_ddos_attack/main/dataset_sdn.csv', sep=';')\n",
        "df = df.loc[:, ~df.columns.str.contains('^Unnamed')]\n",
        "df.head(1)"
      ],
      "execution_count": 2,
      "outputs": [
        {
          "output_type": "execute_result",
          "data": {
            "text/html": [
              "<div>\n",
              "<style scoped>\n",
              "    .dataframe tbody tr th:only-of-type {\n",
              "        vertical-align: middle;\n",
              "    }\n",
              "\n",
              "    .dataframe tbody tr th {\n",
              "        vertical-align: top;\n",
              "    }\n",
              "\n",
              "    .dataframe thead th {\n",
              "        text-align: right;\n",
              "    }\n",
              "</style>\n",
              "<table border=\"1\" class=\"dataframe\">\n",
              "  <thead>\n",
              "    <tr style=\"text-align: right;\">\n",
              "      <th></th>\n",
              "      <th>dt</th>\n",
              "      <th>switch</th>\n",
              "      <th>pktcount</th>\n",
              "      <th>bytecount</th>\n",
              "      <th>dur</th>\n",
              "      <th>dur_nsec</th>\n",
              "      <th>flows</th>\n",
              "      <th>packetins</th>\n",
              "      <th>pktrate</th>\n",
              "      <th>Pairflow</th>\n",
              "      <th>Protocol</th>\n",
              "      <th>port_no</th>\n",
              "      <th>tx_bytes</th>\n",
              "      <th>rx_bytes</th>\n",
              "      <th>tx_kbps</th>\n",
              "      <th>rx_kbps</th>\n",
              "      <th>tot_kbps</th>\n",
              "      <th>label</th>\n",
              "    </tr>\n",
              "  </thead>\n",
              "  <tbody>\n",
              "    <tr>\n",
              "      <th>0</th>\n",
              "      <td>0.220956</td>\n",
              "      <td>0.0</td>\n",
              "      <td>0.174242</td>\n",
              "      <td>0.328245</td>\n",
              "      <td>0.053163</td>\n",
              "      <td>0.716717</td>\n",
              "      <td>0.053723</td>\n",
              "      <td>0.066667</td>\n",
              "      <td>0.076883</td>\n",
              "      <td>0.962331</td>\n",
              "      <td>0.996744</td>\n",
              "      <td>0.96243</td>\n",
              "      <td>0.0</td>\n",
              "      <td>1.0</td>\n",
              "      <td>0.5</td>\n",
              "      <td>0.113329</td>\n",
              "      <td>0.000003</td>\n",
              "      <td>0.0</td>\n",
              "    </tr>\n",
              "  </tbody>\n",
              "</table>\n",
              "</div>"
            ],
            "text/plain": [
              "         dt  switch  pktcount  bytecount  ...  tx_kbps   rx_kbps  tot_kbps  label\n",
              "0  0.220956     0.0  0.174242   0.328245  ...      0.5  0.113329  0.000003    0.0\n",
              "\n",
              "[1 rows x 18 columns]"
            ]
          },
          "metadata": {},
          "execution_count": 2
        }
      ]
    },
    {
      "cell_type": "code",
      "metadata": {
        "id": "FqLQXKcPzg4i"
      },
      "source": [
        "#Changing Protocol\n",
        "\n",
        "df['Protocol'] = df_2['Protocol'] \n",
        "df['Protocol'] = df['Protocol'].replace('UDP', 1)\n",
        "df['Protocol'] = df['Protocol'].replace('TCP', 2)\n",
        "df['Protocol'] = df['Protocol'].replace('ICMP', 3)"
      ],
      "execution_count": 3,
      "outputs": []
    },
    {
      "cell_type": "code",
      "metadata": {
        "colab": {
          "base_uri": "https://localhost:8080/"
        },
        "id": "eKsTL1sR0cKG",
        "outputId": "bb8011ca-1420-4444-ec6a-e8eb6fced89b"
      },
      "source": [
        "df.shape"
      ],
      "execution_count": 14,
      "outputs": [
        {
          "output_type": "execute_result",
          "data": {
            "text/plain": [
              "(94797, 18)"
            ]
          },
          "metadata": {},
          "execution_count": 14
        }
      ]
    },
    {
      "cell_type": "markdown",
      "metadata": {
        "id": "JtRe-V59z4ql"
      },
      "source": [
        "### **Split data to X and Y**"
      ]
    },
    {
      "cell_type": "code",
      "metadata": {
        "id": "u2cB8cnUzo84"
      },
      "source": [
        "x = df[df.columns[:17]]\n",
        "y = df['label']"
      ],
      "execution_count": 15,
      "outputs": []
    },
    {
      "cell_type": "code",
      "metadata": {
        "colab": {
          "base_uri": "https://localhost:8080/",
          "height": 100
        },
        "id": "_t0NesCoz0dB",
        "outputId": "10be5800-acc2-4adb-a836-d38197a93e6a"
      },
      "source": [
        "x.head(1)"
      ],
      "execution_count": 16,
      "outputs": [
        {
          "output_type": "execute_result",
          "data": {
            "text/html": [
              "<div>\n",
              "<style scoped>\n",
              "    .dataframe tbody tr th:only-of-type {\n",
              "        vertical-align: middle;\n",
              "    }\n",
              "\n",
              "    .dataframe tbody tr th {\n",
              "        vertical-align: top;\n",
              "    }\n",
              "\n",
              "    .dataframe thead th {\n",
              "        text-align: right;\n",
              "    }\n",
              "</style>\n",
              "<table border=\"1\" class=\"dataframe\">\n",
              "  <thead>\n",
              "    <tr style=\"text-align: right;\">\n",
              "      <th></th>\n",
              "      <th>dt</th>\n",
              "      <th>switch</th>\n",
              "      <th>pktcount</th>\n",
              "      <th>bytecount</th>\n",
              "      <th>dur</th>\n",
              "      <th>dur_nsec</th>\n",
              "      <th>flows</th>\n",
              "      <th>packetins</th>\n",
              "      <th>pktrate</th>\n",
              "      <th>Pairflow</th>\n",
              "      <th>Protocol</th>\n",
              "      <th>port_no</th>\n",
              "      <th>tx_bytes</th>\n",
              "      <th>rx_bytes</th>\n",
              "      <th>tx_kbps</th>\n",
              "      <th>rx_kbps</th>\n",
              "      <th>tot_kbps</th>\n",
              "    </tr>\n",
              "  </thead>\n",
              "  <tbody>\n",
              "    <tr>\n",
              "      <th>0</th>\n",
              "      <td>0.220956</td>\n",
              "      <td>0.0</td>\n",
              "      <td>0.174242</td>\n",
              "      <td>0.328245</td>\n",
              "      <td>0.053163</td>\n",
              "      <td>0.716717</td>\n",
              "      <td>0.053723</td>\n",
              "      <td>0.066667</td>\n",
              "      <td>0.076883</td>\n",
              "      <td>0.962331</td>\n",
              "      <td>1</td>\n",
              "      <td>0.96243</td>\n",
              "      <td>0.0</td>\n",
              "      <td>1.0</td>\n",
              "      <td>0.5</td>\n",
              "      <td>0.113329</td>\n",
              "      <td>0.000003</td>\n",
              "    </tr>\n",
              "  </tbody>\n",
              "</table>\n",
              "</div>"
            ],
            "text/plain": [
              "         dt  switch  pktcount  bytecount  ...  rx_bytes  tx_kbps   rx_kbps  tot_kbps\n",
              "0  0.220956     0.0  0.174242   0.328245  ...       1.0      0.5  0.113329  0.000003\n",
              "\n",
              "[1 rows x 17 columns]"
            ]
          },
          "metadata": {},
          "execution_count": 16
        }
      ]
    },
    {
      "cell_type": "code",
      "metadata": {
        "id": "JypGsZ7802Nt"
      },
      "source": [
        "x_train,x_test,y_train,y_test = train_test_split(x,y,test_size=0.30,random_state=6)"
      ],
      "execution_count": 19,
      "outputs": []
    },
    {
      "cell_type": "markdown",
      "metadata": {
        "id": "Ke6Lvu-E0ssV"
      },
      "source": [
        "## **Creating Artificial Neural Network Model**"
      ]
    },
    {
      "cell_type": "code",
      "metadata": {
        "colab": {
          "base_uri": "https://localhost:8080/"
        },
        "id": "d1Y8Ymgsz_YR",
        "outputId": "c99ca608-bd03-47e7-ed9a-0034e86f365d"
      },
      "source": [
        "model = models.Sequential([\n",
        "    layers.Dense(2000, input_dim=17, activation='relu'),\n",
        "    layers.Dense(500, activation='sigmoid'),\n",
        "    layers.Dense(500, activation='relu'),\n",
        "    layers.Dense(2, activation='softmax')\n",
        "])\n",
        "model.compile(optimizer=\"adam\",loss=\"sparse_categorical_crossentropy\",metrics=['accuracy'])\n",
        "model.fit(x_train, y_train, epochs=5)"
      ],
      "execution_count": 22,
      "outputs": [
        {
          "output_type": "stream",
          "name": "stdout",
          "text": [
            "Epoch 1/5\n",
            "2074/2074 [==============================] - 42s 20ms/step - loss: 0.2257 - accuracy: 0.8950\n",
            "Epoch 2/5\n",
            "2074/2074 [==============================] - 40s 19ms/step - loss: 0.1298 - accuracy: 0.9418\n",
            "Epoch 3/5\n",
            "2074/2074 [==============================] - 39s 19ms/step - loss: 0.1079 - accuracy: 0.9495\n",
            "Epoch 4/5\n",
            "2074/2074 [==============================] - 38s 19ms/step - loss: 0.0994 - accuracy: 0.9544\n",
            "Epoch 5/5\n",
            "2074/2074 [==============================] - 39s 19ms/step - loss: 0.0903 - accuracy: 0.9583\n"
          ]
        },
        {
          "output_type": "execute_result",
          "data": {
            "text/plain": [
              "<keras.callbacks.History at 0x7faf058288d0>"
            ]
          },
          "metadata": {},
          "execution_count": 22
        }
      ]
    },
    {
      "cell_type": "markdown",
      "metadata": {
        "id": "CCQouNjL2Qxm"
      },
      "source": [
        "### **Predict Classification**"
      ]
    },
    {
      "cell_type": "code",
      "metadata": {
        "id": "FFp4XQhF2NIV"
      },
      "source": [
        "y_pred_train = model.predict(x_train)\n",
        "y_pred_test = model.predict(x_test)"
      ],
      "execution_count": 23,
      "outputs": []
    },
    {
      "cell_type": "markdown",
      "metadata": {
        "id": "6zOXE4QN2WPV"
      },
      "source": [
        "### **Training**"
      ]
    },
    {
      "cell_type": "code",
      "metadata": {
        "colab": {
          "base_uri": "https://localhost:8080/"
        },
        "id": "wO2rnFJ02UmB",
        "outputId": "3222fa82-0766-4c45-e77c-4f07b388ee37"
      },
      "source": [
        "import warnings\n",
        "warnings.filterwarnings('ignore')\n",
        "y_pred_train = [np.argmax(element) for element in y_pred_train]\n",
        "print(confusion_matrix(y_train, y_pred_train))\n",
        "print(classification_report(y_train, y_pred_train))\n",
        "print(\"Accuracy:\",accuracy_score(y_train, y_pred_train)*100)\n"
      ],
      "execution_count": 24,
      "outputs": [
        {
          "output_type": "stream",
          "name": "stdout",
          "text": [
            "[[39362  2081]\n",
            " [  453 24461]]\n",
            "              precision    recall  f1-score   support\n",
            "\n",
            "         0.0       0.99      0.95      0.97     41443\n",
            "         1.0       0.92      0.98      0.95     24914\n",
            "\n",
            "    accuracy                           0.96     66357\n",
            "   macro avg       0.96      0.97      0.96     66357\n",
            "weighted avg       0.96      0.96      0.96     66357\n",
            "\n",
            "Accuracy: 96.18126196181261\n"
          ]
        }
      ]
    },
    {
      "cell_type": "markdown",
      "metadata": {
        "id": "pl9Fxves2ZuH"
      },
      "source": [
        "### **Testing**"
      ]
    },
    {
      "cell_type": "code",
      "metadata": {
        "colab": {
          "base_uri": "https://localhost:8080/"
        },
        "id": "7ttmNRAV2bbc",
        "outputId": "dadd1bf1-2d52-4e17-e039-1ed031d187be"
      },
      "source": [
        "warnings.filterwarnings('ignore')\n",
        "y_pred_test = [np.argmax(element) for element in y_pred_test]\n",
        "print(confusion_matrix(y_test, y_pred_test))\n",
        "print(classification_report(y_test, y_pred_test))\n",
        "print(\"Accuracy:\",accuracy_score(y_test, y_pred_test)*100)"
      ],
      "execution_count": 25,
      "outputs": [
        {
          "output_type": "stream",
          "name": "stdout",
          "text": [
            "[[16935   913]\n",
            " [  193 10399]]\n",
            "              precision    recall  f1-score   support\n",
            "\n",
            "         0.0       0.99      0.95      0.97     17848\n",
            "         1.0       0.92      0.98      0.95     10592\n",
            "\n",
            "    accuracy                           0.96     28440\n",
            "   macro avg       0.95      0.97      0.96     28440\n",
            "weighted avg       0.96      0.96      0.96     28440\n",
            "\n",
            "Accuracy: 96.11111111111111\n"
          ]
        }
      ]
    },
    {
      "cell_type": "markdown",
      "metadata": {
        "id": "q_eL6lAr2w92"
      },
      "source": [
        "### **Validation**"
      ]
    },
    {
      "cell_type": "code",
      "metadata": {
        "colab": {
          "base_uri": "https://localhost:8080/",
          "height": 100
        },
        "id": "3vmqanqp2eLD",
        "outputId": "ca51d2d5-9d4b-4280-9faf-5594063169f9"
      },
      "source": [
        "df_val = pd.read_csv('https://raw.githubusercontent.com/RaihanHeggi/markov_chain_ddos_attack/main/semi_processed_train.csv', sep=',')\n",
        "df_val = df_val.loc[:, ~df_val.columns.str.contains('^Unnamed')]\n",
        "df_val['Protocol'] = df_2['Protocol'] \n",
        "df_val['Protocol'] = df_val['Protocol'].replace('UDP', 1)\n",
        "df_val['Protocol'] = df_val['Protocol'].replace('TCP', 2)\n",
        "df_val['Protocol'] = df_val['Protocol'].replace('ICMP', 3)\n",
        "df_val_x = df_val[df_val.columns[:17]]\n",
        "df_val_y = df_val['label']\n",
        "df_val_x.head(1)"
      ],
      "execution_count": 31,
      "outputs": [
        {
          "output_type": "execute_result",
          "data": {
            "text/html": [
              "<div>\n",
              "<style scoped>\n",
              "    .dataframe tbody tr th:only-of-type {\n",
              "        vertical-align: middle;\n",
              "    }\n",
              "\n",
              "    .dataframe tbody tr th {\n",
              "        vertical-align: top;\n",
              "    }\n",
              "\n",
              "    .dataframe thead th {\n",
              "        text-align: right;\n",
              "    }\n",
              "</style>\n",
              "<table border=\"1\" class=\"dataframe\">\n",
              "  <thead>\n",
              "    <tr style=\"text-align: right;\">\n",
              "      <th></th>\n",
              "      <th>dt</th>\n",
              "      <th>switch</th>\n",
              "      <th>pktcount</th>\n",
              "      <th>bytecount</th>\n",
              "      <th>dur</th>\n",
              "      <th>dur_nsec</th>\n",
              "      <th>flows</th>\n",
              "      <th>packetins</th>\n",
              "      <th>pktrate</th>\n",
              "      <th>Pairflow</th>\n",
              "      <th>Protocol</th>\n",
              "      <th>port_no</th>\n",
              "      <th>tx_bytes</th>\n",
              "      <th>rx_bytes</th>\n",
              "      <th>tx_kbps</th>\n",
              "      <th>rx_kbps</th>\n",
              "      <th>tot_kbps</th>\n",
              "    </tr>\n",
              "  </thead>\n",
              "  <tbody>\n",
              "    <tr>\n",
              "      <th>0</th>\n",
              "      <td>0.220956</td>\n",
              "      <td>0.0</td>\n",
              "      <td>0.174242</td>\n",
              "      <td>0.328245</td>\n",
              "      <td>0.053163</td>\n",
              "      <td>0.716717</td>\n",
              "      <td>0.053723</td>\n",
              "      <td>0.066667</td>\n",
              "      <td>0.076883</td>\n",
              "      <td>0.962331</td>\n",
              "      <td>1</td>\n",
              "      <td>0.96243</td>\n",
              "      <td>0.0</td>\n",
              "      <td>1.0</td>\n",
              "      <td>0.5</td>\n",
              "      <td>0.113329</td>\n",
              "      <td>0.000003</td>\n",
              "    </tr>\n",
              "  </tbody>\n",
              "</table>\n",
              "</div>"
            ],
            "text/plain": [
              "         dt  switch  pktcount  bytecount  ...  rx_bytes  tx_kbps   rx_kbps  tot_kbps\n",
              "0  0.220956     0.0  0.174242   0.328245  ...       1.0      0.5  0.113329  0.000003\n",
              "\n",
              "[1 rows x 17 columns]"
            ]
          },
          "metadata": {},
          "execution_count": 31
        }
      ]
    },
    {
      "cell_type": "code",
      "metadata": {
        "id": "mQOfZQC_3BiM"
      },
      "source": [
        "y_val_pred = model.predict(df_val_x)"
      ],
      "execution_count": 33,
      "outputs": []
    },
    {
      "cell_type": "code",
      "metadata": {
        "colab": {
          "base_uri": "https://localhost:8080/"
        },
        "id": "ZeDklgqm3TdJ",
        "outputId": "e13fbcd8-0cf3-4295-8e53-dd99e3676b9c"
      },
      "source": [
        "warnings.filterwarnings('ignore')\n",
        "y_val_pred = [np.argmax(element) for element in y_val_pred]\n",
        "print(confusion_matrix(df_val_y, y_val_pred))\n",
        "print(classification_report(df_val_y,y_val_pred))\n",
        "print(\"Accuracy:\",accuracy_score(df_val_y, y_val_pred)*100)"
      ],
      "execution_count": 36,
      "outputs": [
        {
          "output_type": "stream",
          "name": "stdout",
          "text": [
            "[[56297  2994]\n",
            " [  646 34860]]\n",
            "              precision    recall  f1-score   support\n",
            "\n",
            "         0.0       0.99      0.95      0.97     59291\n",
            "         1.0       0.92      0.98      0.95     35506\n",
            "\n",
            "    accuracy                           0.96     94797\n",
            "   macro avg       0.95      0.97      0.96     94797\n",
            "weighted avg       0.96      0.96      0.96     94797\n",
            "\n",
            "Accuracy: 96.160216040592\n"
          ]
        }
      ]
    }
  ]
}